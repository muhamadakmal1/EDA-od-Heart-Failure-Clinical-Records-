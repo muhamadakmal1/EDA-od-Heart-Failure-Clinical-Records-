{
  "nbformat": 4,
  "nbformat_minor": 0,
  "metadata": {
    "colab": {
      "private_outputs": true,
      "provenance": []
    },
    "kernelspec": {
      "name": "python3",
      "display_name": "Python 3"
    },
    "language_info": {
      "name": "python"
    }
  },
  "cells": [
    {
      "cell_type": "markdown",
      "source": [
        "# Import important library"
      ],
      "metadata": {
        "id": "XheI2iAoEy6g"
      }
    },
    {
      "cell_type": "code",
      "execution_count": null,
      "metadata": {
        "id": "qP1CF4dOEVeO"
      },
      "outputs": [],
      "source": [
        "import pandas as pd\n",
        "import numpy as np\n",
        "import matplotlib.pyplot as plt\n",
        "import seaborn as sns\n",
        "import warnings\n",
        "warnings.filterwarnings('ignore')"
      ]
    },
    {
      "cell_type": "markdown",
      "source": [
        "# Load the dataset"
      ],
      "metadata": {
        "id": "ed7LBwxME9Uw"
      }
    },
    {
      "cell_type": "code",
      "source": [
        "df = pd.read_csv('heart_failure_clinical_records_dataset.csv')"
      ],
      "metadata": {
        "id": "nu68eGN_FAEo"
      },
      "execution_count": null,
      "outputs": []
    },
    {
      "cell_type": "code",
      "source": [
        "df.head()"
      ],
      "metadata": {
        "id": "H75kY_c5FMXi"
      },
      "execution_count": null,
      "outputs": []
    },
    {
      "cell_type": "code",
      "source": [
        "df.tail()"
      ],
      "metadata": {
        "id": "lWBJZeL3FWfc"
      },
      "execution_count": null,
      "outputs": []
    },
    {
      "cell_type": "code",
      "source": [
        "df.columns.tolist()"
      ],
      "metadata": {
        "id": "9w0k2jlPFaLK"
      },
      "execution_count": null,
      "outputs": []
    },
    {
      "cell_type": "code",
      "source": [
        "df.isnull().sum()"
      ],
      "metadata": {
        "id": "QqAEd5RvFg1v"
      },
      "execution_count": null,
      "outputs": []
    },
    {
      "cell_type": "code",
      "source": [
        "plt.figure(figsize=(10, 6))\n",
        "sns.histplot(df['age'], bins=20, kde=True, color=\"skyblue\")\n",
        "plt.title(\"Distribution of Age Among Heart Failure Patients\")\n",
        "plt.xlabel(\"Age\")\n",
        "plt.ylabel(\"Count\")\n",
        "plt.show()"
      ],
      "metadata": {
        "id": "_oGlueZKFkp-"
      },
      "execution_count": null,
      "outputs": []
    },
    {
      "cell_type": "code",
      "source": [
        "plt.figure(figsize=(10, 6))\n",
        "sns.histplot(df['age'], bins=20, kde=True, color=\"skyblue\")\n",
        "plt.title(\"Distribution of Age Among Heart Failure Patients\")\n",
        "plt.xlabel(\"Age\")\n",
        "plt.ylabel(\"Count\")\n",
        "plt.show()"
      ],
      "metadata": {
        "id": "ISfsLoO_FpEO"
      },
      "execution_count": null,
      "outputs": []
    },
    {
      "cell_type": "code",
      "source": [
        "gender_counts = df['sex'].value_counts()\n",
        "labels = ['Male', 'Female']\n",
        "plt.pie(gender_counts, labels=labels, autopct='%1.1f%%', colors=['#3498db','#f39c12'])\n",
        "plt.title(\"Gender Distribution of Patients\")\n",
        "plt.show()\n"
      ],
      "metadata": {
        "id": "InS2J9O5Fq-K"
      },
      "execution_count": null,
      "outputs": []
    },
    {
      "cell_type": "code",
      "source": [
        "plt.figure(figsize=(10,6))\n",
        "sns.boxplot(x='age', y='platelets', data=df, palette='coolwarm')\n",
        "plt.title(\"Platelet Count by Age Group\")\n",
        "plt.xlabel(\"Age Group\")\n",
        "plt.ylabel(\"Platelet Count\")\n",
        "plt.show()\n"
      ],
      "metadata": {
        "id": "xUbTK6vgFt4x"
      },
      "execution_count": null,
      "outputs": []
    },
    {
      "cell_type": "code",
      "source": [
        "plt.figure(figsize=(8,6))\n",
        "sns.scatterplot(x='serum_creatinine', y='serum_sodium', data=df, hue='DEATH_EVENT')\n",
        "plt.title(\"Creatinine vs Sodium Levels\")\n",
        "plt.xlabel(\"Serum Creatinine\")\n",
        "plt.ylabel(\"Serum Sodium\")\n",
        "plt.show()\n"
      ],
      "metadata": {
        "id": "G3ixBWdzF29V"
      },
      "execution_count": null,
      "outputs": []
    },
    {
      "cell_type": "code",
      "source": [
        "bp_by_sex = df.groupby('sex')['high_blood_pressure'].mean().reset_index()\n",
        "bp_by_sex['sex'] = bp_by_sex['sex'].map({0: 'Female', 1: 'Male'})\n",
        "\n",
        "sns.barplot(x='sex', y='high_blood_pressure', data=bp_by_sex)\n",
        "plt.title(\"High Blood Pressure by Gender\")\n",
        "plt.ylabel(\"Proportion with High BP\")\n",
        "plt.show()\n"
      ],
      "metadata": {
        "id": "ZHeTWBhGF8Ej"
      },
      "execution_count": null,
      "outputs": []
    },
    {
      "cell_type": "code",
      "source": [
        "sns.barplot(x='smoking', y='DEATH_EVENT', data=df)\n",
        "plt.xticks([0, 1], ['Non-Smoker', 'Smoker'])\n",
        "plt.title(\"Smoking and Death Rate\")\n",
        "plt.ylabel(\"Death Rate\")\n",
        "plt.show()\n"
      ],
      "metadata": {
        "id": "vO9Kc_f-F-lR"
      },
      "execution_count": null,
      "outputs": []
    },
    {
      "cell_type": "code",
      "source": [
        "sns.countplot(x='age', hue='DEATH_EVENT', data=df)\n",
        "plt.title(\"Death Events by Age Group\")\n",
        "plt.xlabel(\"Age Group\")\n",
        "plt.ylabel(\"Count\")\n",
        "plt.legend(title=\"Death Event\", labels=[\"No\", \"Yes\"])\n",
        "plt.show()\n"
      ],
      "metadata": {
        "id": "kvwOmeQEGA2l"
      },
      "execution_count": null,
      "outputs": []
    },
    {
      "cell_type": "code",
      "source": [
        "sns.boxplot(x='diabetes', y='ejection_fraction', data=df)\n",
        "plt.xticks([0, 1], ['No Diabetes', 'Diabetic'])\n",
        "plt.title(\"Ejection Fraction vs Diabetes Status\")\n",
        "plt.ylabel(\"Ejection Fraction\")\n",
        "plt.show()\n"
      ],
      "metadata": {
        "id": "GhB8yGHDGG3D"
      },
      "execution_count": null,
      "outputs": []
    },
    {
      "cell_type": "code",
      "source": [
        "sns.boxplot(x='DEATH_EVENT', y='serum_creatinine', data=df)\n",
        "plt.xticks([0, 1], ['Survived', 'Died'])\n",
        "plt.title(\"Serum Creatinine vs Survival\")\n",
        "plt.ylabel(\"Serum Creatinine\")\n",
        "plt.show()\n"
      ],
      "metadata": {
        "id": "sRAMBEcGGI9Z"
      },
      "execution_count": null,
      "outputs": []
    }
  ]
}